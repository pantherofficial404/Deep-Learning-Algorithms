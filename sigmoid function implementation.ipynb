{
 "cells": [
  {
   "cell_type": "code",
   "execution_count": 27,
   "metadata": {},
   "outputs": [],
   "source": [
    "import numpy as np\n",
    "import pandas as pd\n",
    "import matplotlib.pyplot as plt\n",
    "%matplotlib inline"
   ]
  },
  {
   "cell_type": "code",
   "execution_count": 28,
   "metadata": {},
   "outputs": [],
   "source": [
    "def sigmoid(x):\n",
    "    return 1.0/(1.0+np.exp(-x))"
   ]
  },
  {
   "cell_type": "code",
   "execution_count": 62,
   "metadata": {},
   "outputs": [],
   "source": [
    "points = 10\n",
    "np.random.seed(0)\n",
    "bias = np.ones(points)\n",
    "top_region = np.array([np.random.normal(10,2,points),np.random.normal(12,2,points),bias]).T\n",
    "bottom_region = np.array([np.random.normal(5,2,points),np.random.normal(6,2,points),bias]).T"
   ]
  },
  {
   "cell_type": "code",
   "execution_count": 63,
   "metadata": {},
   "outputs": [
    {
     "data": {
      "text/plain": [
       "<matplotlib.collections.PathCollection at 0x7f3085006630>"
      ]
     },
     "execution_count": 63,
     "metadata": {},
     "output_type": "execute_result"
    },
    {
     "data": {
      "image/png": "[encoded data removed]",
      "text/plain": [
       "<Figure size 432x288 with 1 Axes>"
      ]
     },
     "metadata": {
      "needs_background": "light"
     },
     "output_type": "display_data"
    }
   ],
   "source": [
    "plt.scatter(top_region[:,0],top_region[:,1])\n",
    "plt.scatter(bottom_region[:,0],bottom_region[:,1])"
   ]
  },
  {
   "cell_type": "code",
   "execution_count": 50,
   "metadata": {},
   "outputs": [],
   "source": [
    "w1 = -0.2\n",
    "w2 = -0.2\n",
    "b = 3.5"
   ]
  },
  {
   "cell_type": "code",
   "execution_count": 51,
   "metadata": {},
   "outputs": [],
   "source": [
    "line = np.matrix([w1,w2,b]).T"
   ]
  },
  {
   "cell_type": "code",
   "execution_count": 52,
   "metadata": {},
   "outputs": [
    {
     "data": {
      "text/plain": [
       "(3, 1)"
      ]
     },
     "execution_count": 52,
     "metadata": {},
     "output_type": "execute_result"
    }
   ],
   "source": [
    "line.shape"
   ]
  },
  {
   "cell_type": "code",
   "execution_count": 53,
   "metadata": {},
   "outputs": [],
   "source": [
    "x1 = np.array([bottom_region[:,0].min(),top_region[:,0].max()])\n",
    "x2 = -b / w2 + x1 * ( -w1 / w2 )"
   ]
  },
  {
   "cell_type": "code",
   "execution_count": 54,
   "metadata": {},
   "outputs": [
    {
     "data": {
      "text/plain": [
       "[<matplotlib.lines.Line2D at 0x7f3084f56ef0>]"
      ]
     },
     "execution_count": 54,
     "metadata": {},
     "output_type": "execute_result"
    },
    {
     "data": {
      "image/png": "[encoded data removed]",
      "text/plain": [
       "<Figure size 432x288 with 1 Axes>"
      ]
     },
     "metadata": {
      "needs_background": "light"
     },
     "output_type": "display_data"
    }
   ],
   "source": [
    "plt.scatter(top_region[:,0],top_region[:,1])\n",
    "plt.scatter(bottom_region[:,0],bottom_region[:,1])\n",
    "plt.plot(x1,x2)"
   ]
  },
  {
   "cell_type": "code",
   "execution_count": 55,
   "metadata": {},
   "outputs": [],
   "source": [
    "all_points = np.vstack((bottom_region,top_region))"
   ]
  },
  {
   "cell_type": "code",
   "execution_count": 56,
   "metadata": {},
   "outputs": [
    {
     "data": {
      "text/plain": [
       "(20, 3)"
      ]
     },
     "execution_count": 56,
     "metadata": {},
     "output_type": "execute_result"
    }
   ],
   "source": [
    "all_points.shape"
   ]
  },
  {
   "cell_type": "code",
   "execution_count": 57,
   "metadata": {},
   "outputs": [],
   "source": [
    "multiplication = all_points * line"
   ]
  },
  {
   "cell_type": "code",
   "execution_count": 58,
   "metadata": {},
   "outputs": [
    {
     "data": {
      "text/plain": [
       "matrix([[ 2.25921696],\n",
       "        [ 0.88728755],\n",
       "        [ 1.30933982],\n",
       "        [ 2.3891846 ],\n",
       "        [ 0.53126301],\n",
       "        [ 1.81920668],\n",
       "        [ 0.78958032],\n",
       "        [ 0.8939216 ],\n",
       "        [ 0.84181904],\n",
       "        [ 0.83317759],\n",
       "        [-1.66323837],\n",
       "        [-1.64177229],\n",
       "        [-1.59591028],\n",
       "        [-1.84502729],\n",
       "        [-1.82456849],\n",
       "        [-0.64255858],\n",
       "        [-1.877667  ],\n",
       "        [-0.75739381],\n",
       "        [-0.98393954],\n",
       "        [-0.72260111]])"
      ]
     },
     "execution_count": 58,
     "metadata": {},
     "output_type": "execute_result"
    }
   ],
   "source": [
    "multiplication"
   ]
  },
  {
   "cell_type": "code",
   "execution_count": 59,
   "metadata": {},
   "outputs": [],
   "source": [
    "sig = sigmoid(multiplication)"
   ]
  },
  {
   "cell_type": "code",
   "execution_count": 60,
   "metadata": {},
   "outputs": [
    {
     "data": {
      "text/plain": [
       "matrix([[0.90544261],\n",
       "        [0.7083301 ],\n",
       "        [0.78740266],\n",
       "        [0.91599885],\n",
       "        [0.62977764],\n",
       "        [0.86047091],\n",
       "        [0.68774121],\n",
       "        [0.70969879],\n",
       "        [0.69884819],\n",
       "        [0.6970264 ],\n",
       "        [0.15932776],\n",
       "        [0.16222405],\n",
       "        [0.16855399],\n",
       "        [0.13645781],\n",
       "        [0.13888659],\n",
       "        [0.3446684 ],\n",
       "        [0.13265708],\n",
       "        [0.31921237],\n",
       "        [0.27211079],\n",
       "        [0.32682046]])"
      ]
     },
     "execution_count": 60,
     "metadata": {},
     "output_type": "execute_result"
    }
   ],
   "source": [
    "sig"
   ]
  }
 ],
 "metadata": {
  "kernelspec": {
   "display_name": "Python 3",
   "language": "python",
   "name": "python3"
  },
  "language_info": {
   "codemirror_mode": {
    "name": "ipython",
    "version": 3
   },
   "file_extension": ".py",
   "mimetype": "text/x-python",
   "name": "python",
   "nbconvert_exporter": "python",
   "pygments_lexer": "ipython3",
   "version": "3.7.1"
  }
 },
 "nbformat": 4,
 "nbformat_minor": 2
}
