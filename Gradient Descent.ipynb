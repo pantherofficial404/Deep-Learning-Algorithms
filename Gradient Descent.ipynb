{
 "cells": [
  {
   "cell_type": "code",
   "execution_count": 97,
   "metadata": {},
   "outputs": [],
   "source": [
    "import numpy as np\n",
    "import pandas as pd\n",
    "import matplotlib.pyplot as plt\n",
    "%matplotlib inline"
   ]
  },
  {
   "cell_type": "code",
   "execution_count": 98,
   "metadata": {},
   "outputs": [],
   "source": [
    "points = 100\n",
    "bias = np.ones(points)\n",
    "np.random.seed(0)"
   ]
  },
  {
   "cell_type": "code",
   "execution_count": 99,
   "metadata": {},
   "outputs": [],
   "source": [
    "topRegion = np.array([np.random.normal(10,2,points),np.random.normal(12,2,points),bias]).T\n",
    "bottomRegion = np.array([np.random.normal(5,2,points),np.random.normal(6,2,points),bias]).T"
   ]
  },
  {
   "cell_type": "code",
   "execution_count": 100,
   "metadata": {},
   "outputs": [],
   "source": [
    "line = np.matrix([np.ones(3)]).T"
   ]
  },
  {
   "cell_type": "code",
   "execution_count": 106,
   "metadata": {
    "scrolled": true
   },
   "outputs": [
    {
     "data": {
      "text/plain": [
       "matrix([[1.],\n",
       "        [1.],\n",
       "        [1.]])"
      ]
     },
     "execution_count": 106,
     "metadata": {},
     "output_type": "execute_result"
    }
   ],
   "source": [
    "line"
   ]
  },
  {
   "cell_type": "code",
   "execution_count": 107,
   "metadata": {},
   "outputs": [],
   "source": [
    "allPoints = np.vstack((topRegion,bottomRegion))"
   ]
  },
  {
   "cell_type": "code",
   "execution_count": 108,
   "metadata": {},
   "outputs": [
    {
     "data": {
      "text/plain": [
       "array([[13.52810469, 15.76630139,  1.        ],\n",
       "       [10.80031442,  9.30448188,  1.        ],\n",
       "       [11.95747597,  9.45903   ,  1.        ],\n",
       "       [14.4817864 , 13.93879342,  1.        ],\n",
       "       [13.73511598,  9.65375319,  1.        ],\n",
       "       [ 8.04544424, 15.88724237,  1.        ],\n",
       "       [11.90017684, 11.17276204,  1.        ],\n",
       "       [ 9.69728558, 10.50509038,  1.        ],\n",
       "       [ 9.7935623 , 15.84588405,  1.        ],\n",
       "       [10.821197  , 14.96102958,  1.        ],\n",
       "       [10.28808714, 15.73511792,  1.        ],\n",
       "       [12.90854701, 13.81208932,  1.        ],\n",
       "       [11.52207545, 10.27754863,  1.        ],\n",
       "       [10.24335003, 15.82012991,  1.        ],\n",
       "       [10.88772647, 11.46399326,  1.        ],\n",
       "       [10.66734865, 13.60491279,  1.        ],\n",
       "       [12.98815815, 13.89450394,  1.        ],\n",
       "       [ 9.58968347, 11.68997981,  1.        ],\n",
       "       [10.6261354 , 13.22815874,  1.        ],\n",
       "       [ 8.29180852, 13.84441334,  1.        ],\n",
       "       [ 4.89402037, 12.75285106,  1.        ],\n",
       "       [11.30723719,  9.80119842,  1.        ],\n",
       "       [11.7288724 , 12.59647635,  1.        ],\n",
       "       [ 8.51566996, 14.65277179,  1.        ],\n",
       "       [14.53950925, 10.61086428,  1.        ],\n",
       "       [ 7.09126865, 11.70073092,  1.        ],\n",
       "       [10.09151703, 11.1296929 ,  1.        ],\n",
       "       [ 9.6256323 , 15.69852746,  1.        ],\n",
       "       [13.06555843, 13.34458951,  1.        ],\n",
       "       [12.93871754, 12.81492367,  1.        ],\n",
       "       [10.30989485, 10.46016785,  1.        ],\n",
       "       [10.75632504, 13.07849838,  1.        ],\n",
       "       [ 8.2244285 , 10.65133468,  1.        ],\n",
       "       [ 6.03840706, 12.06366112,  1.        ],\n",
       "       [ 9.3041757 , 10.72830784,  1.        ],\n",
       "       [10.31269794, 13.35286659,  1.        ],\n",
       "       [12.46058136, 13.15318163,  1.        ],\n",
       "       [12.4047597 , 11.58340249,  1.        ],\n",
       "       [ 9.22534637, 12.79201343,  1.        ],\n",
       "       [ 9.3953945 ,  9.81387698,  1.        ],\n",
       "       [ 7.90289407,  9.01748481,  1.        ],\n",
       "       [ 7.15996413, 12.8787834 ,  1.        ],\n",
       "       [ 6.58745962, 12.33334699,  1.        ],\n",
       "       [13.90155079, 13.27006287,  1.        ],\n",
       "       [ 8.98069564, 16.76628955,  1.        ],\n",
       "       [ 9.1238514 , 13.88895897,  1.        ],\n",
       "       [ 7.49440928, 10.17435555,  1.        ],\n",
       "       [11.55498071, 14.23403258,  1.        ],\n",
       "       [ 6.7722043 ,  9.36818518,  1.        ],\n",
       "       [ 9.57451944, 11.07683079,  1.        ],\n",
       "       [ 8.20906688, 11.86351679,  1.        ],\n",
       "       [10.773805  , 15.42668544,  1.        ],\n",
       "       [ 8.97838972, 10.51049036,  1.        ],\n",
       "       [ 7.63873563, 10.34712292,  1.        ],\n",
       "       [ 9.94363554, 11.80309495,  1.        ],\n",
       "       [10.85666374, 10.67304343,  1.        ],\n",
       "       [10.13303444, 14.25327184,  1.        ],\n",
       "       [10.6049438 ,  9.84013698,  1.        ],\n",
       "       [ 8.73135581,  9.7050627 ,  1.        ],\n",
       "       [ 9.27451767, 11.12435991,  1.        ],\n",
       "       [ 8.6550791 , 11.0039351 ,  1.        ],\n",
       "       [ 9.28089368, 15.85906411,  1.        ],\n",
       "       [ 8.37370744, 13.89884161,  1.        ],\n",
       "       [ 6.5474348 , 12.17510248,  1.        ],\n",
       "       [10.35485228,  9.54912896,  1.        ],\n",
       "       [ 9.19643813, 13.68872595,  1.        ],\n",
       "       [ 6.73960331,  9.99956931,  1.        ],\n",
       "       [10.92556451,  8.91045781,  1.        ],\n",
       "       [ 8.18540327, 14.37605958,  1.        ],\n",
       "       [10.10389079, 12.63388522,  1.        ],\n",
       "       [11.45818112, 13.84171765,  1.        ],\n",
       "       [10.25796582, 12.63745531,  1.        ],\n",
       "       [12.27880137, 13.71366122,  1.        ],\n",
       "       [ 7.53034836, 10.69794881,  1.        ],\n",
       "       [10.80468328,  9.93151432,  1.        ],\n",
       "       [ 8.63037982, 13.36318904,  1.        ],\n",
       "       [ 8.2584057 , 10.39318067,  1.        ],\n",
       "       [ 8.84230067, 10.62090044,  1.        ],\n",
       "       [ 9.37689494, 11.08893499,  1.        ],\n",
       "       [10.11233068, 12.03495832,  1.        ],\n",
       "       [ 7.66970032, 11.29201218,  1.        ],\n",
       "       [11.80165297,  9.25009741,  1.        ],\n",
       "       [10.93132488, 10.71276319,  1.        ],\n",
       "       [ 6.92751263,  7.5531937 ,  1.        ],\n",
       "       [12.97650439, 13.2504629 ,  1.        ],\n",
       "       [13.79177835,  8.79588469,  1.        ],\n",
       "       [12.35755914,  9.79123332,  1.        ],\n",
       "       [ 9.64015033, 12.10433016,  1.        ],\n",
       "       [ 7.85849476, 10.52087401,  1.        ],\n",
       "       [12.10890345, 15.08602919,  1.        ],\n",
       "       [ 9.19364611,  9.41428618,  1.        ],\n",
       "       [12.44489014, 12.53410174,  1.        ],\n",
       "       [10.41654996, 11.92143436,  1.        ],\n",
       "       [11.95327807,  9.663813  ,  1.        ],\n",
       "       [10.71273279, 13.04655332,  1.        ],\n",
       "       [11.41314634, 11.65690734,  1.        ],\n",
       "       [10.02100004, 13.5435811 ,  1.        ],\n",
       "       [13.57174099, 13.64700831,  1.        ],\n",
       "       [10.25382419, 16.3264719 ,  1.        ],\n",
       "       [10.80397873, 14.6730559 ,  1.        ],\n",
       "       [ 4.26163632,  3.3869463 ,  1.        ],\n",
       "       [ 4.52124164,  9.31626136,  1.        ],\n",
       "       [ 7.19931919,  5.76367191,  1.        ],\n",
       "       [ 6.31052746,  4.63964359,  1.        ],\n",
       "       [ 6.28026305,  7.33276616,  1.        ],\n",
       "       [ 1.76608791,  5.07856043,  1.        ],\n",
       "       [ 4.95134775,  3.33148306,  1.        ],\n",
       "       [ 3.52393818,  3.30656499,  1.        ],\n",
       "       [ 5.5598492 ,  7.38754631,  1.        ],\n",
       "       [ 4.80369922,  5.68085312,  1.        ],\n",
       "       [ 6.82035782,  5.73259688,  1.        ],\n",
       "       [ 5.63443643,  8.15548761,  1.        ],\n",
       "       [ 6.57265592,  3.74634838,  1.        ],\n",
       "       [ 4.06716181,  4.53864449,  1.        ],\n",
       "       [ 3.11110749,  5.23024038,  1.        ],\n",
       "       [ 4.17990061,  6.18870318,  1.        ],\n",
       "       [ 4.96595917,  5.9156571 ,  1.        ],\n",
       "       [ 5.75830347,  5.42622562,  1.        ],\n",
       "       [ 9.5186179 ,  5.8767472 ,  1.        ],\n",
       "       [ 4.9154857 ,  5.78538945,  1.        ],\n",
       "       [ 3.08811   ,  4.56079122,  1.        ],\n",
       "       [ 4.30803645,  4.37401402,  1.        ],\n",
       "       [ 4.07280805,  6.54903272,  1.        ],\n",
       "       [ 5.96296295,  4.21816983,  1.        ],\n",
       "       [ 1.91840597,  3.68528948,  1.        ],\n",
       "       [ 5.12652399,  5.3754155 ,  1.        ],\n",
       "       [ 5.31301308,  5.68466597,  1.        ],\n",
       "       [ 5.46436207, 10.51344699,  1.        ],\n",
       "       [ 3.80536786,  4.59059945,  1.        ],\n",
       "       [ 4.52415654,  7.88652145,  1.        ],\n",
       "       [ 2.15187818,  7.49437667,  1.        ],\n",
       "       [ 4.01336023,  3.62211009,  1.        ],\n",
       "       [ 3.91427705,  7.54650595,  1.        ],\n",
       "       [ 5.83210009,  3.63223872,  1.        ],\n",
       "       [ 2.68763514,  0.68165552,  1.        ],\n",
       "       [ 6.5623962 ,  7.21263905,  1.        ],\n",
       "       [ 7.98896909,  2.48821883,  1.        ],\n",
       "       [ 0.86002995,  6.90186892,  1.        ],\n",
       "       [ 5.85251746,  4.6319782 ,  1.        ],\n",
       "       [ 6.35381607,  9.31910159,  1.        ],\n",
       "       [ 3.72512595,  8.1370188 ,  1.        ],\n",
       "       [ 4.20545637,  5.09322839,  1.        ],\n",
       "       [ 4.73423884,  4.62432478,  1.        ],\n",
       "       [ 4.40441824,  3.57184519,  1.        ],\n",
       "       [ 4.38197406,  5.11815474,  1.        ],\n",
       "       [ 1.64799239,  5.43928901,  1.        ],\n",
       "       [ 7.30466313,  5.27061291,  1.        ],\n",
       "       [ 7.15923718,  6.31340771,  1.        ],\n",
       "       [ 3.37327148,  7.157043  ,  1.        ],\n",
       "       [ 2.06715134,  6.69930891,  1.        ],\n",
       "       [ 6.04212975,  4.47171215,  1.        ],\n",
       "       [ 3.84842406,  3.12441705,  1.        ],\n",
       "       [ 5.28390633,  8.7290637 ,  1.        ],\n",
       "       [ 4.36134317,  4.62110163,  1.        ],\n",
       "       [ 6.3830775 ,  4.6954128 ,  1.        ],\n",
       "       [ 6.38949829,  4.95762138,  1.        ],\n",
       "       [ 3.54880524,  2.3138609 ,  1.        ],\n",
       "       [ 2.23327209,  5.04405199,  1.        ],\n",
       "       [ 1.83412321,  5.04068837,  1.        ],\n",
       "       [ 6.22075876,  7.2407166 ,  1.        ],\n",
       "       [ 2.62228148,  7.3969143 ,  1.        ],\n",
       "       [ 3.98636729,  6.00754178,  1.        ],\n",
       "       [ 3.80737192,  7.86369675,  1.        ],\n",
       "       [ 4.89486541,  6.67992997,  1.        ],\n",
       "       [ 1.12744039,  5.96863578,  1.        ],\n",
       "       [ 5.37755719,  6.32185634,  1.        ],\n",
       "       [ 6.04778205,  5.61869301,  1.        ],\n",
       "       [ 5.17684417,  5.21030097,  1.        ],\n",
       "       [ 4.37822766,  5.46453293,  1.        ],\n",
       "       [ 5.19480033,  3.74397734,  1.        ],\n",
       "       [ 5.79809269,  6.56088341,  1.        ],\n",
       "       [-0.54518551,  4.01375278,  1.        ],\n",
       "       [ 8.91182462,  7.68326253,  1.        ],\n",
       "       [ 5.78018665,  5.50108284,  1.        ],\n",
       "       [ 3.69518284,  6.09898996,  1.        ],\n",
       "       [ 4.21809325,  6.98767355,  1.        ],\n",
       "       [ 5.98748355,  7.28662893,  1.        ],\n",
       "       [ 4.76779212,  2.85875318,  1.        ],\n",
       "       [ 0.93863106,  5.58619265,  1.        ],\n",
       "       [ 9.12898572,  7.76035782,  1.        ],\n",
       "       [ 4.77891869,  2.60378836,  1.        ],\n",
       "       [ 7.04034542,  6.77456095,  1.        ],\n",
       "       [ 3.6159003 ,  1.48887154,  1.        ],\n",
       "       [ 8.07275411,  3.95498631,  1.        ],\n",
       "       [ 5.57268738,  6.0772611 ,  1.        ],\n",
       "       [ 6.21768767,  2.6865698 ,  1.        ],\n",
       "       [ 2.90949327,  4.02897852,  1.        ],\n",
       "       [ 7.42229058,  3.05632999,  1.        ],\n",
       "       [ 6.37963633,  9.29626986,  1.        ],\n",
       "       [ 7.60369246,  6.32845551,  1.        ],\n",
       "       [ 3.74382488,  7.13458056,  1.        ],\n",
       "       [ 4.03794576,  5.5546498 ,  1.        ],\n",
       "       [ 9.6078334 ,  5.2931365 ,  1.        ],\n",
       "       [ 2.87996835,  2.76705162,  1.        ],\n",
       "       [ 4.7281006 ,  5.41632527,  1.        ],\n",
       "       [ 7.27378273,  4.47701558,  1.        ],\n",
       "       [ 5.19544994,  7.71584785,  1.        ],\n",
       "       [ 6.16590736,  8.28220373,  1.        ],\n",
       "       [ 4.20110194,  8.93315743,  1.        ],\n",
       "       [ 5.74011178,  7.70510388,  1.        ]])"
      ]
     },
     "execution_count": 108,
     "metadata": {},
     "output_type": "execute_result"
    }
   ],
   "source": [
    "allPoints"
   ]
  },
  {
   "cell_type": "code",
   "execution_count": 109,
   "metadata": {},
   "outputs": [],
   "source": [
    "def sigmoid(x):\n",
    "    return (1.0)/(1.0+np.exp(-x))"
   ]
  },
  {
   "cell_type": "code",
   "execution_count": 110,
   "metadata": {
    "scrolled": false
   },
   "outputs": [],
   "source": [
    "y = np.array([np.zeros(points),np.ones(points)]).reshape(points*2,1)"
   ]
  },
  {
   "cell_type": "code",
   "execution_count": 111,
   "metadata": {},
   "outputs": [],
   "source": [
    "def gradientDescent(line,allPoints,y,alpha):\n",
    "    m = allPoints.shape[0]\n",
    "    for i in range(600):\n",
    "        p = sigmoid(allPoints*line)\n",
    "        gradient = (allPoints.T * (p-y)) /  (alpha/m)\n",
    "        line = line - gradient\n",
    "        w1 = line.item(0)\n",
    "        w2 = line.item(1)\n",
    "        b = line.item(2)\n",
    "        x1 = np.array([allPoints[:,0].min(),allPoints[:,1].max()])\n",
    "        x2 = -b / w2 + x1 * ( -w1 / w2 )\n",
    "    plt.plot(x1,x2)"
   ]
  },
  {
   "cell_type": "code",
   "execution_count": 112,
   "metadata": {
    "scrolled": true
   },
   "outputs": [
    {
     "data": {
      "image/png": "[encoded data removed]",
      "text/plain": [
       "<Figure size 432x288 with 1 Axes>"
      ]
     },
     "metadata": {
      "needs_background": "light"
     },
     "output_type": "display_data"
    }
   ],
   "source": [
    "plt.scatter(topRegion[:,0],topRegion[:,1])\n",
    "plt.scatter(bottomRegion[:,0],bottomRegion[:,1])\n",
    "gradientDescent(line,allPoints,y,0.006)"
   ]
  },
  {
   "cell_type": "code",
   "execution_count": null,
   "metadata": {},
   "outputs": [],
   "source": []
  }
 ],
 "metadata": {
  "kernelspec": {
   "display_name": "Python 3",
   "language": "python",
   "name": "python3"
  },
  "language_info": {
   "codemirror_mode": {
    "name": "ipython",
    "version": 3
   },
   "file_extension": ".py",
   "mimetype": "text/x-python",
   "name": "python",
   "nbconvert_exporter": "python",
   "pygments_lexer": "ipython3",
   "version": "3.7.1"
  }
 },
 "nbformat": 4,
 "nbformat_minor": 2
}
